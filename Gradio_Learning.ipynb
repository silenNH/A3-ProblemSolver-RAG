{
 "cells": [
  {
   "cell_type": "code",
   "execution_count": 1,
   "id": "f99d320d-3155-478a-8b7f-a28256a99808",
   "metadata": {},
   "outputs": [],
   "source": [
    "import gradio as gr"
   ]
  },
  {
   "cell_type": "code",
   "execution_count": 2,
   "id": "0d40933b-2b9b-4965-98a0-2eab5c2f7a50",
   "metadata": {},
   "outputs": [],
   "source": [
    "def add_numbers(a,b):\n",
    "    return a+b"
   ]
  },
  {
   "cell_type": "code",
   "execution_count": 6,
   "id": "a4b09f3b-e222-47dd-9440-0f48369362d9",
   "metadata": {},
   "outputs": [],
   "source": [
    "interface=gr.Interface(\n",
    "    fn=add_numbers,\n",
    "    inputs=[gr.Number(label=\"First Number\"), gr.Number(label=\"Second Number\")],\n",
    "    outputs=gr.Number(label=\"Sum\")\n",
    ")\n"
   ]
  },
  {
   "cell_type": "raw",
   "id": "4355d52a-dfd0-4cb2-a3d0-1514ceafcc8c",
   "metadata": {},
   "source": [
    "interface.lunch(share=true)"
   ]
  },
  {
   "cell_type": "code",
   "execution_count": 10,
   "id": "d162dde4-136c-497b-819d-dde09a3881f6",
   "metadata": {},
   "outputs": [
    {
     "name": "stdout",
     "output_type": "stream",
     "text": [
      "Running on local URL:  http://127.0.0.1:7865\n",
      "Running on public URL: https://4fda3bacf928660e1b.gradio.live\n",
      "\n",
      "This share link expires in 72 hours. For free permanent hosting and GPU upgrades, run `gradio deploy` from Terminal to deploy to Spaces (https://huggingface.co/spaces)\n"
     ]
    },
    {
     "data": {
      "text/html": [
       "<div><iframe src=\"https://4fda3bacf928660e1b.gradio.live\" width=\"100%\" height=\"500\" allow=\"autoplay; camera; microphone; clipboard-read; clipboard-write;\" frameborder=\"0\" allowfullscreen></iframe></div>"
      ],
      "text/plain": [
       "<IPython.core.display.HTML object>"
      ]
     },
     "metadata": {},
     "output_type": "display_data"
    },
    {
     "data": {
      "text/plain": []
     },
     "execution_count": 10,
     "metadata": {},
     "output_type": "execute_result"
    }
   ],
   "source": [
    "interface.launch(share=True)"
   ]
  },
  {
   "cell_type": "code",
   "execution_count": 15,
   "id": "2fc8ac7c-ded0-4ea0-b105-c201f20de1f1",
   "metadata": {},
   "outputs": [
    {
     "name": "stdout",
     "output_type": "stream",
     "text": [
      "Running on local URL:  http://127.0.0.1:7870\n",
      "Running on public URL: https://d8418363e9732414b4.gradio.live\n",
      "\n",
      "This share link expires in 72 hours. For free permanent hosting and GPU upgrades, run `gradio deploy` from Terminal to deploy to Spaces (https://huggingface.co/spaces)\n"
     ]
    },
    {
     "data": {
      "text/html": [
       "<div><iframe src=\"https://d8418363e9732414b4.gradio.live\" width=\"100%\" height=\"500\" allow=\"autoplay; camera; microphone; clipboard-read; clipboard-write;\" frameborder=\"0\" allowfullscreen></iframe></div>"
      ],
      "text/plain": [
       "<IPython.core.display.HTML object>"
      ]
     },
     "metadata": {},
     "output_type": "display_data"
    },
    {
     "data": {
      "text/plain": []
     },
     "execution_count": 15,
     "metadata": {},
     "output_type": "execute_result"
    }
   ],
   "source": [
    "with gr.Blocks() as demo:\n",
    "    with gr.Row():\n",
    "        text1 = gr.Textbox(label=\"t1\")\n",
    "        slider2 = gr.Textbox(label=\"s2\")\n",
    "        drop3 = gr.Dropdown([\"a\", \"b\", \"c\"], label=\"d3\")\n",
    "    with gr.Row():\n",
    "        with gr.Column(scale=1, min_width=300):\n",
    "            text1 = gr.Textbox(label=\"prompt 1\")\n",
    "            text2 = gr.Textbox(label=\"prompt 2\")\n",
    "            inbtw = gr.Button(\"Between\")\n",
    "            text4 = gr.Textbox(label=\"prompt 1\")\n",
    "            text5 = gr.Textbox(label=\"prompt 2\")\n",
    "        with gr.Column(scale=2, min_width=300):\n",
    "            img1 = gr.Image(\"images/cheetah.jpg\")\n",
    "            btn = gr.Button(\"Go\")\n",
    "        with gr.Column(scale=3, min_width=300):\n",
    "            text1 = gr.Textbox(label=\"prompt 1\")\n",
    "\n",
    "demo.launch(share=True)"
   ]
  },
  {
   "cell_type": "code",
   "execution_count": null,
   "id": "11dacace-c52f-4bc6-a565-055067054e96",
   "metadata": {},
   "outputs": [],
   "source": []
  }
 ],
 "metadata": {
  "kernelspec": {
   "display_name": "Python 3 (ipykernel)",
   "language": "python",
   "name": "python3"
  },
  "language_info": {
   "codemirror_mode": {
    "name": "ipython",
    "version": 3
   },
   "file_extension": ".py",
   "mimetype": "text/x-python",
   "name": "python",
   "nbconvert_exporter": "python",
   "pygments_lexer": "ipython3",
   "version": "3.9.21"
  }
 },
 "nbformat": 4,
 "nbformat_minor": 5
}
